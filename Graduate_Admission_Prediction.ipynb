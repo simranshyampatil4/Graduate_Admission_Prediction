{
  "nbformat": 4,
  "nbformat_minor": 0,
  "metadata": {
    "colab": {
      "name": "Graduate_Admission_Prediction.ipynb",
      "provenance": [],
      "collapsed_sections": []
    },
    "kernelspec": {
      "name": "python3",
      "display_name": "Python 3"
    }
  },
  "cells": [
    {
      "cell_type": "markdown",
      "metadata": {
        "id": "IVW-9CpxdFYl"
      },
      "source": [
        "**Importing Libraries**"
      ]
    },
    {
      "cell_type": "code",
      "metadata": {
        "id": "rAUIUbX3dCaS"
      },
      "source": [
        "import pandas as pd\n",
        "import seaborn as sns\n",
        "import matplotlib.pyplot as plt\n",
        "import numpy as np"
      ],
      "execution_count": null,
      "outputs": []
    },
    {
      "cell_type": "markdown",
      "metadata": {
        "id": "BY0XbXlpdQCS"
      },
      "source": [
        "**Importing dataset**"
      ]
    },
    {
      "cell_type": "code",
      "metadata": {
        "id": "UAN4ceoWry_x"
      },
      "source": [
        "data = pd.read_csv(\"/content/Admission_Predict_hackathon1.csv\")"
      ],
      "execution_count": null,
      "outputs": []
    },
    {
      "cell_type": "markdown",
      "metadata": {
        "id": "DPCwlIrtg5fq"
      },
      "source": [
        "**Data Understanding**"
      ]
    },
    {
      "cell_type": "code",
      "metadata": {
        "colab": {
          "base_uri": "https://localhost:8080/"
        },
        "id": "s8Oy0Otdfjd_",
        "outputId": "2320fe27-528c-4c35-9293-87fcca2a2c93"
      },
      "source": [
        "print(data.shape)"
      ],
      "execution_count": null,
      "outputs": [
        {
          "output_type": "stream",
          "text": [
            "(400, 9)\n"
          ],
          "name": "stdout"
        }
      ]
    },
    {
      "cell_type": "code",
      "metadata": {
        "colab": {
          "base_uri": "https://localhost:8080/"
        },
        "id": "QC1nSC2EfoRT",
        "outputId": "cb7085ab-5786-49db-e730-4b08d2079f4f"
      },
      "source": [
        "data.columns"
      ],
      "execution_count": null,
      "outputs": [
        {
          "output_type": "execute_result",
          "data": {
            "text/plain": [
              "Index(['Serial No.', 'GRE Score', 'TOEFL Score', 'University Rating', 'SOP',\n",
              "       'LOR ', 'CGPA', 'Research', 'Chance of Admit '],\n",
              "      dtype='object')"
            ]
          },
          "metadata": {
            "tags": []
          },
          "execution_count": 5
        }
      ]
    },
    {
      "cell_type": "code",
      "metadata": {
        "colab": {
          "base_uri": "https://localhost:8080/",
          "height": 204
        },
        "id": "hXL_cmxCr-NM",
        "outputId": "31fe9f77-0141-4055-ff7e-b5344faa9453"
      },
      "source": [
        "data.head()"
      ],
      "execution_count": null,
      "outputs": [
        {
          "output_type": "execute_result",
          "data": {
            "text/html": [
              "<div>\n",
              "<style scoped>\n",
              "    .dataframe tbody tr th:only-of-type {\n",
              "        vertical-align: middle;\n",
              "    }\n",
              "\n",
              "    .dataframe tbody tr th {\n",
              "        vertical-align: top;\n",
              "    }\n",
              "\n",
              "    .dataframe thead th {\n",
              "        text-align: right;\n",
              "    }\n",
              "</style>\n",
              "<table border=\"1\" class=\"dataframe\">\n",
              "  <thead>\n",
              "    <tr style=\"text-align: right;\">\n",
              "      <th></th>\n",
              "      <th>Serial No.</th>\n",
              "      <th>GRE Score</th>\n",
              "      <th>TOEFL Score</th>\n",
              "      <th>University Rating</th>\n",
              "      <th>SOP</th>\n",
              "      <th>LOR</th>\n",
              "      <th>CGPA</th>\n",
              "      <th>Research</th>\n",
              "      <th>Chance of Admit</th>\n",
              "    </tr>\n",
              "  </thead>\n",
              "  <tbody>\n",
              "    <tr>\n",
              "      <th>0</th>\n",
              "      <td>1</td>\n",
              "      <td>337</td>\n",
              "      <td>118</td>\n",
              "      <td>4</td>\n",
              "      <td>4.5</td>\n",
              "      <td>4.5</td>\n",
              "      <td>9.65</td>\n",
              "      <td>1</td>\n",
              "      <td>0.92</td>\n",
              "    </tr>\n",
              "    <tr>\n",
              "      <th>1</th>\n",
              "      <td>2</td>\n",
              "      <td>324</td>\n",
              "      <td>107</td>\n",
              "      <td>4</td>\n",
              "      <td>4.0</td>\n",
              "      <td>4.5</td>\n",
              "      <td>8.87</td>\n",
              "      <td>1</td>\n",
              "      <td>0.76</td>\n",
              "    </tr>\n",
              "    <tr>\n",
              "      <th>2</th>\n",
              "      <td>3</td>\n",
              "      <td>316</td>\n",
              "      <td>104</td>\n",
              "      <td>3</td>\n",
              "      <td>3.0</td>\n",
              "      <td>3.5</td>\n",
              "      <td>8.00</td>\n",
              "      <td>1</td>\n",
              "      <td>0.72</td>\n",
              "    </tr>\n",
              "    <tr>\n",
              "      <th>3</th>\n",
              "      <td>4</td>\n",
              "      <td>322</td>\n",
              "      <td>110</td>\n",
              "      <td>3</td>\n",
              "      <td>3.5</td>\n",
              "      <td>2.5</td>\n",
              "      <td>8.67</td>\n",
              "      <td>1</td>\n",
              "      <td>0.80</td>\n",
              "    </tr>\n",
              "    <tr>\n",
              "      <th>4</th>\n",
              "      <td>5</td>\n",
              "      <td>314</td>\n",
              "      <td>103</td>\n",
              "      <td>2</td>\n",
              "      <td>2.0</td>\n",
              "      <td>3.0</td>\n",
              "      <td>8.21</td>\n",
              "      <td>0</td>\n",
              "      <td>0.65</td>\n",
              "    </tr>\n",
              "  </tbody>\n",
              "</table>\n",
              "</div>"
            ],
            "text/plain": [
              "   Serial No.  GRE Score  TOEFL Score  ...  CGPA  Research  Chance of Admit \n",
              "0           1        337          118  ...  9.65         1              0.92\n",
              "1           2        324          107  ...  8.87         1              0.76\n",
              "2           3        316          104  ...  8.00         1              0.72\n",
              "3           4        322          110  ...  8.67         1              0.80\n",
              "4           5        314          103  ...  8.21         0              0.65\n",
              "\n",
              "[5 rows x 9 columns]"
            ]
          },
          "metadata": {
            "tags": []
          },
          "execution_count": 6
        }
      ]
    },
    {
      "cell_type": "markdown",
      "metadata": {
        "id": "-74yCsl1hALp"
      },
      "source": [
        "**Data Preprocessing**"
      ]
    },
    {
      "cell_type": "code",
      "metadata": {
        "id": "-_LGLcaKsW3U"
      },
      "source": [
        "data = data.drop(\"Serial No.\",axis=1)"
      ],
      "execution_count": null,
      "outputs": []
    },
    {
      "cell_type": "code",
      "metadata": {
        "colab": {
          "base_uri": "https://localhost:8080/"
        },
        "id": "k61fUiRo09Rh",
        "outputId": "025bace8-c4f2-4c05-d5ee-19df6b8f0311"
      },
      "source": [
        "print(data.shape)"
      ],
      "execution_count": null,
      "outputs": [
        {
          "output_type": "stream",
          "text": [
            "(400, 8)\n"
          ],
          "name": "stdout"
        }
      ]
    },
    {
      "cell_type": "code",
      "metadata": {
        "colab": {
          "base_uri": "https://localhost:8080/",
          "height": 204
        },
        "id": "hXl5PMc4slTo",
        "outputId": "74bdd667-138d-42cc-e923-36b8d35327b3"
      },
      "source": [
        "data.head()"
      ],
      "execution_count": null,
      "outputs": [
        {
          "output_type": "execute_result",
          "data": {
            "text/html": [
              "<div>\n",
              "<style scoped>\n",
              "    .dataframe tbody tr th:only-of-type {\n",
              "        vertical-align: middle;\n",
              "    }\n",
              "\n",
              "    .dataframe tbody tr th {\n",
              "        vertical-align: top;\n",
              "    }\n",
              "\n",
              "    .dataframe thead th {\n",
              "        text-align: right;\n",
              "    }\n",
              "</style>\n",
              "<table border=\"1\" class=\"dataframe\">\n",
              "  <thead>\n",
              "    <tr style=\"text-align: right;\">\n",
              "      <th></th>\n",
              "      <th>GRE Score</th>\n",
              "      <th>TOEFL Score</th>\n",
              "      <th>University Rating</th>\n",
              "      <th>SOP</th>\n",
              "      <th>LOR</th>\n",
              "      <th>CGPA</th>\n",
              "      <th>Research</th>\n",
              "      <th>Chance of Admit</th>\n",
              "    </tr>\n",
              "  </thead>\n",
              "  <tbody>\n",
              "    <tr>\n",
              "      <th>0</th>\n",
              "      <td>337</td>\n",
              "      <td>118</td>\n",
              "      <td>4</td>\n",
              "      <td>4.5</td>\n",
              "      <td>4.5</td>\n",
              "      <td>9.65</td>\n",
              "      <td>1</td>\n",
              "      <td>0.92</td>\n",
              "    </tr>\n",
              "    <tr>\n",
              "      <th>1</th>\n",
              "      <td>324</td>\n",
              "      <td>107</td>\n",
              "      <td>4</td>\n",
              "      <td>4.0</td>\n",
              "      <td>4.5</td>\n",
              "      <td>8.87</td>\n",
              "      <td>1</td>\n",
              "      <td>0.76</td>\n",
              "    </tr>\n",
              "    <tr>\n",
              "      <th>2</th>\n",
              "      <td>316</td>\n",
              "      <td>104</td>\n",
              "      <td>3</td>\n",
              "      <td>3.0</td>\n",
              "      <td>3.5</td>\n",
              "      <td>8.00</td>\n",
              "      <td>1</td>\n",
              "      <td>0.72</td>\n",
              "    </tr>\n",
              "    <tr>\n",
              "      <th>3</th>\n",
              "      <td>322</td>\n",
              "      <td>110</td>\n",
              "      <td>3</td>\n",
              "      <td>3.5</td>\n",
              "      <td>2.5</td>\n",
              "      <td>8.67</td>\n",
              "      <td>1</td>\n",
              "      <td>0.80</td>\n",
              "    </tr>\n",
              "    <tr>\n",
              "      <th>4</th>\n",
              "      <td>314</td>\n",
              "      <td>103</td>\n",
              "      <td>2</td>\n",
              "      <td>2.0</td>\n",
              "      <td>3.0</td>\n",
              "      <td>8.21</td>\n",
              "      <td>0</td>\n",
              "      <td>0.65</td>\n",
              "    </tr>\n",
              "  </tbody>\n",
              "</table>\n",
              "</div>"
            ],
            "text/plain": [
              "   GRE Score  TOEFL Score  University Rating  ...  CGPA  Research  Chance of Admit \n",
              "0        337          118                  4  ...  9.65         1              0.92\n",
              "1        324          107                  4  ...  8.87         1              0.76\n",
              "2        316          104                  3  ...  8.00         1              0.72\n",
              "3        322          110                  3  ...  8.67         1              0.80\n",
              "4        314          103                  2  ...  8.21         0              0.65\n",
              "\n",
              "[5 rows x 8 columns]"
            ]
          },
          "metadata": {
            "tags": []
          },
          "execution_count": 9
        }
      ]
    },
    {
      "cell_type": "markdown",
      "metadata": {
        "id": "3LYGIifyelsU"
      },
      "source": [
        "**Exploratory Data Analysis**"
      ]
    },
    {
      "cell_type": "code",
      "metadata": {
        "colab": {
          "base_uri": "https://localhost:8080/",
          "height": 297
        },
        "id": "xp_xwMYAsphH",
        "outputId": "266f892d-c1bc-43d5-cc69-e10c2041edcd"
      },
      "source": [
        "data.describe()"
      ],
      "execution_count": null,
      "outputs": [
        {
          "output_type": "execute_result",
          "data": {
            "text/html": [
              "<div>\n",
              "<style scoped>\n",
              "    .dataframe tbody tr th:only-of-type {\n",
              "        vertical-align: middle;\n",
              "    }\n",
              "\n",
              "    .dataframe tbody tr th {\n",
              "        vertical-align: top;\n",
              "    }\n",
              "\n",
              "    .dataframe thead th {\n",
              "        text-align: right;\n",
              "    }\n",
              "</style>\n",
              "<table border=\"1\" class=\"dataframe\">\n",
              "  <thead>\n",
              "    <tr style=\"text-align: right;\">\n",
              "      <th></th>\n",
              "      <th>GRE Score</th>\n",
              "      <th>TOEFL Score</th>\n",
              "      <th>University Rating</th>\n",
              "      <th>SOP</th>\n",
              "      <th>LOR</th>\n",
              "      <th>CGPA</th>\n",
              "      <th>Research</th>\n",
              "      <th>Chance of Admit</th>\n",
              "    </tr>\n",
              "  </thead>\n",
              "  <tbody>\n",
              "    <tr>\n",
              "      <th>count</th>\n",
              "      <td>400.000000</td>\n",
              "      <td>400.000000</td>\n",
              "      <td>400.000000</td>\n",
              "      <td>400.000000</td>\n",
              "      <td>400.000000</td>\n",
              "      <td>400.000000</td>\n",
              "      <td>400.000000</td>\n",
              "      <td>400.000000</td>\n",
              "    </tr>\n",
              "    <tr>\n",
              "      <th>mean</th>\n",
              "      <td>316.807500</td>\n",
              "      <td>107.410000</td>\n",
              "      <td>3.087500</td>\n",
              "      <td>3.400000</td>\n",
              "      <td>3.452500</td>\n",
              "      <td>8.598925</td>\n",
              "      <td>0.547500</td>\n",
              "      <td>0.724350</td>\n",
              "    </tr>\n",
              "    <tr>\n",
              "      <th>std</th>\n",
              "      <td>11.473646</td>\n",
              "      <td>6.069514</td>\n",
              "      <td>1.143728</td>\n",
              "      <td>1.006869</td>\n",
              "      <td>0.898478</td>\n",
              "      <td>0.596317</td>\n",
              "      <td>0.498362</td>\n",
              "      <td>0.142609</td>\n",
              "    </tr>\n",
              "    <tr>\n",
              "      <th>min</th>\n",
              "      <td>290.000000</td>\n",
              "      <td>92.000000</td>\n",
              "      <td>1.000000</td>\n",
              "      <td>1.000000</td>\n",
              "      <td>1.000000</td>\n",
              "      <td>6.800000</td>\n",
              "      <td>0.000000</td>\n",
              "      <td>0.340000</td>\n",
              "    </tr>\n",
              "    <tr>\n",
              "      <th>25%</th>\n",
              "      <td>308.000000</td>\n",
              "      <td>103.000000</td>\n",
              "      <td>2.000000</td>\n",
              "      <td>2.500000</td>\n",
              "      <td>3.000000</td>\n",
              "      <td>8.170000</td>\n",
              "      <td>0.000000</td>\n",
              "      <td>0.640000</td>\n",
              "    </tr>\n",
              "    <tr>\n",
              "      <th>50%</th>\n",
              "      <td>317.000000</td>\n",
              "      <td>107.000000</td>\n",
              "      <td>3.000000</td>\n",
              "      <td>3.500000</td>\n",
              "      <td>3.500000</td>\n",
              "      <td>8.610000</td>\n",
              "      <td>1.000000</td>\n",
              "      <td>0.730000</td>\n",
              "    </tr>\n",
              "    <tr>\n",
              "      <th>75%</th>\n",
              "      <td>325.000000</td>\n",
              "      <td>112.000000</td>\n",
              "      <td>4.000000</td>\n",
              "      <td>4.000000</td>\n",
              "      <td>4.000000</td>\n",
              "      <td>9.062500</td>\n",
              "      <td>1.000000</td>\n",
              "      <td>0.830000</td>\n",
              "    </tr>\n",
              "    <tr>\n",
              "      <th>max</th>\n",
              "      <td>340.000000</td>\n",
              "      <td>120.000000</td>\n",
              "      <td>5.000000</td>\n",
              "      <td>5.000000</td>\n",
              "      <td>5.000000</td>\n",
              "      <td>9.920000</td>\n",
              "      <td>1.000000</td>\n",
              "      <td>0.970000</td>\n",
              "    </tr>\n",
              "  </tbody>\n",
              "</table>\n",
              "</div>"
            ],
            "text/plain": [
              "        GRE Score  TOEFL Score  ...    Research  Chance of Admit \n",
              "count  400.000000   400.000000  ...  400.000000        400.000000\n",
              "mean   316.807500   107.410000  ...    0.547500          0.724350\n",
              "std     11.473646     6.069514  ...    0.498362          0.142609\n",
              "min    290.000000    92.000000  ...    0.000000          0.340000\n",
              "25%    308.000000   103.000000  ...    0.000000          0.640000\n",
              "50%    317.000000   107.000000  ...    1.000000          0.730000\n",
              "75%    325.000000   112.000000  ...    1.000000          0.830000\n",
              "max    340.000000   120.000000  ...    1.000000          0.970000\n",
              "\n",
              "[8 rows x 8 columns]"
            ]
          },
          "metadata": {
            "tags": []
          },
          "execution_count": 10
        }
      ]
    },
    {
      "cell_type": "code",
      "metadata": {
        "colab": {
          "base_uri": "https://localhost:8080/"
        },
        "id": "vdWRBkWSsuxq",
        "outputId": "4b689a21-1cab-43be-ba2e-3ee70ebad88f"
      },
      "source": [
        "data.info()"
      ],
      "execution_count": null,
      "outputs": [
        {
          "output_type": "stream",
          "text": [
            "<class 'pandas.core.frame.DataFrame'>\n",
            "RangeIndex: 400 entries, 0 to 399\n",
            "Data columns (total 8 columns):\n",
            " #   Column             Non-Null Count  Dtype  \n",
            "---  ------             --------------  -----  \n",
            " 0   GRE Score          400 non-null    int64  \n",
            " 1   TOEFL Score        400 non-null    int64  \n",
            " 2   University Rating  400 non-null    int64  \n",
            " 3   SOP                400 non-null    float64\n",
            " 4   LOR                400 non-null    float64\n",
            " 5   CGPA               400 non-null    float64\n",
            " 6   Research           400 non-null    int64  \n",
            " 7   Chance of Admit    400 non-null    float64\n",
            "dtypes: float64(4), int64(4)\n",
            "memory usage: 25.1 KB\n"
          ],
          "name": "stdout"
        }
      ]
    },
    {
      "cell_type": "code",
      "metadata": {
        "colab": {
          "base_uri": "https://localhost:8080/"
        },
        "id": "2TTdr7Bbs19s",
        "outputId": "c2ec9772-a034-4c45-adff-8d4aa4d427bb"
      },
      "source": [
        "data.isnull().any"
      ],
      "execution_count": null,
      "outputs": [
        {
          "output_type": "execute_result",
          "data": {
            "text/plain": [
              "<bound method DataFrame.any of      GRE Score  TOEFL Score  ...  Research  Chance of Admit \n",
              "0        False        False  ...     False             False\n",
              "1        False        False  ...     False             False\n",
              "2        False        False  ...     False             False\n",
              "3        False        False  ...     False             False\n",
              "4        False        False  ...     False             False\n",
              "..         ...          ...  ...       ...               ...\n",
              "395      False        False  ...     False             False\n",
              "396      False        False  ...     False             False\n",
              "397      False        False  ...     False             False\n",
              "398      False        False  ...     False             False\n",
              "399      False        False  ...     False             False\n",
              "\n",
              "[400 rows x 8 columns]>"
            ]
          },
          "metadata": {
            "tags": []
          },
          "execution_count": 12
        }
      ]
    },
    {
      "cell_type": "code",
      "metadata": {
        "colab": {
          "base_uri": "https://localhost:8080/",
          "height": 450
        },
        "id": "55HwomUjs-ks",
        "outputId": "200c6859-193b-4f86-b16e-fa7d622838d6"
      },
      "source": [
        "data[data['CGPA']>8].groupby('CGPA').mean()"
      ],
      "execution_count": null,
      "outputs": [
        {
          "output_type": "execute_result",
          "data": {
            "text/html": [
              "<div>\n",
              "<style scoped>\n",
              "    .dataframe tbody tr th:only-of-type {\n",
              "        vertical-align: middle;\n",
              "    }\n",
              "\n",
              "    .dataframe tbody tr th {\n",
              "        vertical-align: top;\n",
              "    }\n",
              "\n",
              "    .dataframe thead th {\n",
              "        text-align: right;\n",
              "    }\n",
              "</style>\n",
              "<table border=\"1\" class=\"dataframe\">\n",
              "  <thead>\n",
              "    <tr style=\"text-align: right;\">\n",
              "      <th></th>\n",
              "      <th>GRE Score</th>\n",
              "      <th>TOEFL Score</th>\n",
              "      <th>University Rating</th>\n",
              "      <th>SOP</th>\n",
              "      <th>LOR</th>\n",
              "      <th>Research</th>\n",
              "      <th>Chance of Admit</th>\n",
              "    </tr>\n",
              "    <tr>\n",
              "      <th>CGPA</th>\n",
              "      <th></th>\n",
              "      <th></th>\n",
              "      <th></th>\n",
              "      <th></th>\n",
              "      <th></th>\n",
              "      <th></th>\n",
              "      <th></th>\n",
              "    </tr>\n",
              "  </thead>\n",
              "  <tbody>\n",
              "    <tr>\n",
              "      <th>8.01</th>\n",
              "      <td>306.000000</td>\n",
              "      <td>99.000000</td>\n",
              "      <td>1.000000</td>\n",
              "      <td>1.000000</td>\n",
              "      <td>2.000000</td>\n",
              "      <td>0.500000</td>\n",
              "      <td>0.550000</td>\n",
              "    </tr>\n",
              "    <tr>\n",
              "      <th>8.02</th>\n",
              "      <td>307.000000</td>\n",
              "      <td>102.333333</td>\n",
              "      <td>3.000000</td>\n",
              "      <td>2.500000</td>\n",
              "      <td>3.000000</td>\n",
              "      <td>0.666667</td>\n",
              "      <td>0.596667</td>\n",
              "    </tr>\n",
              "    <tr>\n",
              "      <th>8.03</th>\n",
              "      <td>298.333333</td>\n",
              "      <td>98.333333</td>\n",
              "      <td>1.666667</td>\n",
              "      <td>2.833333</td>\n",
              "      <td>2.833333</td>\n",
              "      <td>0.333333</td>\n",
              "      <td>0.540000</td>\n",
              "    </tr>\n",
              "    <tr>\n",
              "      <th>8.04</th>\n",
              "      <td>308.666667</td>\n",
              "      <td>100.666667</td>\n",
              "      <td>2.666667</td>\n",
              "      <td>2.833333</td>\n",
              "      <td>3.166667</td>\n",
              "      <td>0.333333</td>\n",
              "      <td>0.656667</td>\n",
              "    </tr>\n",
              "    <tr>\n",
              "      <th>8.06</th>\n",
              "      <td>303.000000</td>\n",
              "      <td>100.000000</td>\n",
              "      <td>2.000000</td>\n",
              "      <td>3.000000</td>\n",
              "      <td>3.500000</td>\n",
              "      <td>1.000000</td>\n",
              "      <td>0.640000</td>\n",
              "    </tr>\n",
              "    <tr>\n",
              "      <th>...</th>\n",
              "      <td>...</td>\n",
              "      <td>...</td>\n",
              "      <td>...</td>\n",
              "      <td>...</td>\n",
              "      <td>...</td>\n",
              "      <td>...</td>\n",
              "      <td>...</td>\n",
              "    </tr>\n",
              "    <tr>\n",
              "      <th>9.80</th>\n",
              "      <td>335.333333</td>\n",
              "      <td>115.666667</td>\n",
              "      <td>4.666667</td>\n",
              "      <td>4.000000</td>\n",
              "      <td>4.000000</td>\n",
              "      <td>1.000000</td>\n",
              "      <td>0.956667</td>\n",
              "    </tr>\n",
              "    <tr>\n",
              "      <th>9.82</th>\n",
              "      <td>335.000000</td>\n",
              "      <td>117.000000</td>\n",
              "      <td>5.000000</td>\n",
              "      <td>5.000000</td>\n",
              "      <td>5.000000</td>\n",
              "      <td>1.000000</td>\n",
              "      <td>0.960000</td>\n",
              "    </tr>\n",
              "    <tr>\n",
              "      <th>9.87</th>\n",
              "      <td>334.000000</td>\n",
              "      <td>120.000000</td>\n",
              "      <td>5.000000</td>\n",
              "      <td>4.000000</td>\n",
              "      <td>5.000000</td>\n",
              "      <td>1.000000</td>\n",
              "      <td>0.970000</td>\n",
              "    </tr>\n",
              "    <tr>\n",
              "      <th>9.91</th>\n",
              "      <td>340.000000</td>\n",
              "      <td>120.000000</td>\n",
              "      <td>5.000000</td>\n",
              "      <td>4.500000</td>\n",
              "      <td>4.500000</td>\n",
              "      <td>1.000000</td>\n",
              "      <td>0.970000</td>\n",
              "    </tr>\n",
              "    <tr>\n",
              "      <th>9.92</th>\n",
              "      <td>340.000000</td>\n",
              "      <td>120.000000</td>\n",
              "      <td>4.000000</td>\n",
              "      <td>4.500000</td>\n",
              "      <td>4.000000</td>\n",
              "      <td>1.000000</td>\n",
              "      <td>0.970000</td>\n",
              "    </tr>\n",
              "  </tbody>\n",
              "</table>\n",
              "<p>135 rows × 7 columns</p>\n",
              "</div>"
            ],
            "text/plain": [
              "       GRE Score  TOEFL Score  ...  Research  Chance of Admit \n",
              "CGPA                           ...                            \n",
              "8.01  306.000000    99.000000  ...  0.500000          0.550000\n",
              "8.02  307.000000   102.333333  ...  0.666667          0.596667\n",
              "8.03  298.333333    98.333333  ...  0.333333          0.540000\n",
              "8.04  308.666667   100.666667  ...  0.333333          0.656667\n",
              "8.06  303.000000   100.000000  ...  1.000000          0.640000\n",
              "...          ...          ...  ...       ...               ...\n",
              "9.80  335.333333   115.666667  ...  1.000000          0.956667\n",
              "9.82  335.000000   117.000000  ...  1.000000          0.960000\n",
              "9.87  334.000000   120.000000  ...  1.000000          0.970000\n",
              "9.91  340.000000   120.000000  ...  1.000000          0.970000\n",
              "9.92  340.000000   120.000000  ...  1.000000          0.970000\n",
              "\n",
              "[135 rows x 7 columns]"
            ]
          },
          "metadata": {
            "tags": []
          },
          "execution_count": 13
        }
      ]
    },
    {
      "cell_type": "code",
      "metadata": {
        "colab": {
          "base_uri": "https://localhost:8080/",
          "height": 700
        },
        "id": "tr_Tw7eatUh3",
        "outputId": "8d5c952b-c4dd-4e1d-a918-34b88c5f2348"
      },
      "source": [
        "data[data['GRE Score']>320].groupby('GRE Score').mean()"
      ],
      "execution_count": null,
      "outputs": [
        {
          "output_type": "execute_result",
          "data": {
            "text/html": [
              "<div>\n",
              "<style scoped>\n",
              "    .dataframe tbody tr th:only-of-type {\n",
              "        vertical-align: middle;\n",
              "    }\n",
              "\n",
              "    .dataframe tbody tr th {\n",
              "        vertical-align: top;\n",
              "    }\n",
              "\n",
              "    .dataframe thead th {\n",
              "        text-align: right;\n",
              "    }\n",
              "</style>\n",
              "<table border=\"1\" class=\"dataframe\">\n",
              "  <thead>\n",
              "    <tr style=\"text-align: right;\">\n",
              "      <th></th>\n",
              "      <th>TOEFL Score</th>\n",
              "      <th>University Rating</th>\n",
              "      <th>SOP</th>\n",
              "      <th>LOR</th>\n",
              "      <th>CGPA</th>\n",
              "      <th>Research</th>\n",
              "      <th>Chance of Admit</th>\n",
              "    </tr>\n",
              "    <tr>\n",
              "      <th>GRE Score</th>\n",
              "      <th></th>\n",
              "      <th></th>\n",
              "      <th></th>\n",
              "      <th></th>\n",
              "      <th></th>\n",
              "      <th></th>\n",
              "      <th></th>\n",
              "    </tr>\n",
              "  </thead>\n",
              "  <tbody>\n",
              "    <tr>\n",
              "      <th>321</th>\n",
              "      <td>110.153846</td>\n",
              "      <td>3.538462</td>\n",
              "      <td>3.615385</td>\n",
              "      <td>3.923077</td>\n",
              "      <td>8.843846</td>\n",
              "      <td>0.846154</td>\n",
              "      <td>0.810000</td>\n",
              "    </tr>\n",
              "    <tr>\n",
              "      <th>322</th>\n",
              "      <td>109.714286</td>\n",
              "      <td>3.785714</td>\n",
              "      <td>3.928571</td>\n",
              "      <td>3.857143</td>\n",
              "      <td>8.827143</td>\n",
              "      <td>0.785714</td>\n",
              "      <td>0.802857</td>\n",
              "    </tr>\n",
              "    <tr>\n",
              "      <th>323</th>\n",
              "      <td>109.800000</td>\n",
              "      <td>3.700000</td>\n",
              "      <td>3.900000</td>\n",
              "      <td>3.900000</td>\n",
              "      <td>8.862000</td>\n",
              "      <td>0.800000</td>\n",
              "      <td>0.770000</td>\n",
              "    </tr>\n",
              "    <tr>\n",
              "      <th>324</th>\n",
              "      <td>110.052632</td>\n",
              "      <td>3.789474</td>\n",
              "      <td>3.736842</td>\n",
              "      <td>3.605263</td>\n",
              "      <td>8.868947</td>\n",
              "      <td>0.894737</td>\n",
              "      <td>0.803684</td>\n",
              "    </tr>\n",
              "    <tr>\n",
              "      <th>325</th>\n",
              "      <td>110.692308</td>\n",
              "      <td>3.384615</td>\n",
              "      <td>3.500000</td>\n",
              "      <td>3.576923</td>\n",
              "      <td>8.869231</td>\n",
              "      <td>0.769231</td>\n",
              "      <td>0.726154</td>\n",
              "    </tr>\n",
              "    <tr>\n",
              "      <th>326</th>\n",
              "      <td>111.454545</td>\n",
              "      <td>3.454545</td>\n",
              "      <td>3.863636</td>\n",
              "      <td>3.590909</td>\n",
              "      <td>9.058182</td>\n",
              "      <td>0.909091</td>\n",
              "      <td>0.819091</td>\n",
              "    </tr>\n",
              "    <tr>\n",
              "      <th>327</th>\n",
              "      <td>110.333333</td>\n",
              "      <td>3.750000</td>\n",
              "      <td>3.708333</td>\n",
              "      <td>3.750000</td>\n",
              "      <td>8.815000</td>\n",
              "      <td>0.833333</td>\n",
              "      <td>0.783333</td>\n",
              "    </tr>\n",
              "    <tr>\n",
              "      <th>328</th>\n",
              "      <td>111.833333</td>\n",
              "      <td>4.166667</td>\n",
              "      <td>4.500000</td>\n",
              "      <td>4.000000</td>\n",
              "      <td>9.183333</td>\n",
              "      <td>1.000000</td>\n",
              "      <td>0.828333</td>\n",
              "    </tr>\n",
              "    <tr>\n",
              "      <th>329</th>\n",
              "      <td>113.000000</td>\n",
              "      <td>3.888889</td>\n",
              "      <td>4.166667</td>\n",
              "      <td>4.277778</td>\n",
              "      <td>9.136667</td>\n",
              "      <td>1.000000</td>\n",
              "      <td>0.848889</td>\n",
              "    </tr>\n",
              "    <tr>\n",
              "      <th>330</th>\n",
              "      <td>114.666667</td>\n",
              "      <td>4.333333</td>\n",
              "      <td>4.750000</td>\n",
              "      <td>3.916667</td>\n",
              "      <td>9.311667</td>\n",
              "      <td>1.000000</td>\n",
              "      <td>0.901667</td>\n",
              "    </tr>\n",
              "    <tr>\n",
              "      <th>331</th>\n",
              "      <td>116.250000</td>\n",
              "      <td>4.500000</td>\n",
              "      <td>4.375000</td>\n",
              "      <td>4.312500</td>\n",
              "      <td>9.370000</td>\n",
              "      <td>1.000000</td>\n",
              "      <td>0.918750</td>\n",
              "    </tr>\n",
              "    <tr>\n",
              "      <th>332</th>\n",
              "      <td>117.666667</td>\n",
              "      <td>4.166667</td>\n",
              "      <td>4.833333</td>\n",
              "      <td>4.500000</td>\n",
              "      <td>9.348333</td>\n",
              "      <td>0.833333</td>\n",
              "      <td>0.915000</td>\n",
              "    </tr>\n",
              "    <tr>\n",
              "      <th>333</th>\n",
              "      <td>116.750000</td>\n",
              "      <td>4.750000</td>\n",
              "      <td>4.750000</td>\n",
              "      <td>4.375000</td>\n",
              "      <td>9.517500</td>\n",
              "      <td>1.000000</td>\n",
              "      <td>0.930000</td>\n",
              "    </tr>\n",
              "    <tr>\n",
              "      <th>334</th>\n",
              "      <td>117.285714</td>\n",
              "      <td>4.571429</td>\n",
              "      <td>4.214286</td>\n",
              "      <td>4.142857</td>\n",
              "      <td>9.298571</td>\n",
              "      <td>1.000000</td>\n",
              "      <td>0.912857</td>\n",
              "    </tr>\n",
              "    <tr>\n",
              "      <th>335</th>\n",
              "      <td>116.750000</td>\n",
              "      <td>4.750000</td>\n",
              "      <td>4.750000</td>\n",
              "      <td>4.500000</td>\n",
              "      <td>9.625000</td>\n",
              "      <td>1.000000</td>\n",
              "      <td>0.940000</td>\n",
              "    </tr>\n",
              "    <tr>\n",
              "      <th>336</th>\n",
              "      <td>117.200000</td>\n",
              "      <td>4.800000</td>\n",
              "      <td>4.500000</td>\n",
              "      <td>4.300000</td>\n",
              "      <td>9.580000</td>\n",
              "      <td>1.000000</td>\n",
              "      <td>0.948000</td>\n",
              "    </tr>\n",
              "    <tr>\n",
              "      <th>337</th>\n",
              "      <td>118.000000</td>\n",
              "      <td>4.000000</td>\n",
              "      <td>4.500000</td>\n",
              "      <td>4.500000</td>\n",
              "      <td>9.650000</td>\n",
              "      <td>1.000000</td>\n",
              "      <td>0.920000</td>\n",
              "    </tr>\n",
              "    <tr>\n",
              "      <th>338</th>\n",
              "      <td>117.500000</td>\n",
              "      <td>4.250000</td>\n",
              "      <td>4.000000</td>\n",
              "      <td>4.750000</td>\n",
              "      <td>9.437500</td>\n",
              "      <td>1.000000</td>\n",
              "      <td>0.920000</td>\n",
              "    </tr>\n",
              "    <tr>\n",
              "      <th>339</th>\n",
              "      <td>116.333333</td>\n",
              "      <td>4.666667</td>\n",
              "      <td>4.166667</td>\n",
              "      <td>4.000000</td>\n",
              "      <td>9.753333</td>\n",
              "      <td>0.666667</td>\n",
              "      <td>0.936667</td>\n",
              "    </tr>\n",
              "    <tr>\n",
              "      <th>340</th>\n",
              "      <td>116.750000</td>\n",
              "      <td>4.500000</td>\n",
              "      <td>4.625000</td>\n",
              "      <td>4.500000</td>\n",
              "      <td>9.672500</td>\n",
              "      <td>1.000000</td>\n",
              "      <td>0.947500</td>\n",
              "    </tr>\n",
              "  </tbody>\n",
              "</table>\n",
              "</div>"
            ],
            "text/plain": [
              "           TOEFL Score  University Rating  ...  Research  Chance of Admit \n",
              "GRE Score                                  ...                            \n",
              "321         110.153846           3.538462  ...  0.846154          0.810000\n",
              "322         109.714286           3.785714  ...  0.785714          0.802857\n",
              "323         109.800000           3.700000  ...  0.800000          0.770000\n",
              "324         110.052632           3.789474  ...  0.894737          0.803684\n",
              "325         110.692308           3.384615  ...  0.769231          0.726154\n",
              "326         111.454545           3.454545  ...  0.909091          0.819091\n",
              "327         110.333333           3.750000  ...  0.833333          0.783333\n",
              "328         111.833333           4.166667  ...  1.000000          0.828333\n",
              "329         113.000000           3.888889  ...  1.000000          0.848889\n",
              "330         114.666667           4.333333  ...  1.000000          0.901667\n",
              "331         116.250000           4.500000  ...  1.000000          0.918750\n",
              "332         117.666667           4.166667  ...  0.833333          0.915000\n",
              "333         116.750000           4.750000  ...  1.000000          0.930000\n",
              "334         117.285714           4.571429  ...  1.000000          0.912857\n",
              "335         116.750000           4.750000  ...  1.000000          0.940000\n",
              "336         117.200000           4.800000  ...  1.000000          0.948000\n",
              "337         118.000000           4.000000  ...  1.000000          0.920000\n",
              "338         117.500000           4.250000  ...  1.000000          0.920000\n",
              "339         116.333333           4.666667  ...  0.666667          0.936667\n",
              "340         116.750000           4.500000  ...  1.000000          0.947500\n",
              "\n",
              "[20 rows x 7 columns]"
            ]
          },
          "metadata": {
            "tags": []
          },
          "execution_count": 14
        }
      ]
    },
    {
      "cell_type": "code",
      "metadata": {
        "colab": {
          "base_uri": "https://localhost:8080/",
          "height": 700
        },
        "id": "95M1FzWNtcaP",
        "outputId": "c8683a93-e595-4962-a832-193047b42ce6"
      },
      "source": [
        "data[data['TOEFL Score']>100].groupby('TOEFL Score').mean()"
      ],
      "execution_count": null,
      "outputs": [
        {
          "output_type": "execute_result",
          "data": {
            "text/html": [
              "<div>\n",
              "<style scoped>\n",
              "    .dataframe tbody tr th:only-of-type {\n",
              "        vertical-align: middle;\n",
              "    }\n",
              "\n",
              "    .dataframe tbody tr th {\n",
              "        vertical-align: top;\n",
              "    }\n",
              "\n",
              "    .dataframe thead th {\n",
              "        text-align: right;\n",
              "    }\n",
              "</style>\n",
              "<table border=\"1\" class=\"dataframe\">\n",
              "  <thead>\n",
              "    <tr style=\"text-align: right;\">\n",
              "      <th></th>\n",
              "      <th>GRE Score</th>\n",
              "      <th>University Rating</th>\n",
              "      <th>SOP</th>\n",
              "      <th>LOR</th>\n",
              "      <th>CGPA</th>\n",
              "      <th>Research</th>\n",
              "      <th>Chance of Admit</th>\n",
              "    </tr>\n",
              "    <tr>\n",
              "      <th>TOEFL Score</th>\n",
              "      <th></th>\n",
              "      <th></th>\n",
              "      <th></th>\n",
              "      <th></th>\n",
              "      <th></th>\n",
              "      <th></th>\n",
              "      <th></th>\n",
              "    </tr>\n",
              "  </thead>\n",
              "  <tbody>\n",
              "    <tr>\n",
              "      <th>101</th>\n",
              "      <td>306.454545</td>\n",
              "      <td>2.090909</td>\n",
              "      <td>2.545455</td>\n",
              "      <td>2.863636</td>\n",
              "      <td>8.012727</td>\n",
              "      <td>0.181818</td>\n",
              "      <td>0.584545</td>\n",
              "    </tr>\n",
              "    <tr>\n",
              "      <th>102</th>\n",
              "      <td>308.117647</td>\n",
              "      <td>2.705882</td>\n",
              "      <td>3.000000</td>\n",
              "      <td>3.235294</td>\n",
              "      <td>8.328235</td>\n",
              "      <td>0.235294</td>\n",
              "      <td>0.650000</td>\n",
              "    </tr>\n",
              "    <tr>\n",
              "      <th>103</th>\n",
              "      <td>312.937500</td>\n",
              "      <td>2.625000</td>\n",
              "      <td>3.156250</td>\n",
              "      <td>3.312500</td>\n",
              "      <td>8.351250</td>\n",
              "      <td>0.187500</td>\n",
              "      <td>0.685625</td>\n",
              "    </tr>\n",
              "    <tr>\n",
              "      <th>104</th>\n",
              "      <td>312.440000</td>\n",
              "      <td>2.880000</td>\n",
              "      <td>3.240000</td>\n",
              "      <td>3.440000</td>\n",
              "      <td>8.370000</td>\n",
              "      <td>0.400000</td>\n",
              "      <td>0.686000</td>\n",
              "    </tr>\n",
              "    <tr>\n",
              "      <th>105</th>\n",
              "      <td>310.678571</td>\n",
              "      <td>2.500000</td>\n",
              "      <td>2.785714</td>\n",
              "      <td>2.910714</td>\n",
              "      <td>8.241786</td>\n",
              "      <td>0.285714</td>\n",
              "      <td>0.643571</td>\n",
              "    </tr>\n",
              "    <tr>\n",
              "      <th>106</th>\n",
              "      <td>312.250000</td>\n",
              "      <td>2.666667</td>\n",
              "      <td>3.208333</td>\n",
              "      <td>3.250000</td>\n",
              "      <td>8.360000</td>\n",
              "      <td>0.375000</td>\n",
              "      <td>0.672083</td>\n",
              "    </tr>\n",
              "    <tr>\n",
              "      <th>107</th>\n",
              "      <td>314.961538</td>\n",
              "      <td>2.807692</td>\n",
              "      <td>3.288462</td>\n",
              "      <td>3.365385</td>\n",
              "      <td>8.522308</td>\n",
              "      <td>0.653846</td>\n",
              "      <td>0.710769</td>\n",
              "    </tr>\n",
              "    <tr>\n",
              "      <th>108</th>\n",
              "      <td>316.882353</td>\n",
              "      <td>3.470588</td>\n",
              "      <td>3.735294</td>\n",
              "      <td>3.588235</td>\n",
              "      <td>8.582941</td>\n",
              "      <td>0.411765</td>\n",
              "      <td>0.708824</td>\n",
              "    </tr>\n",
              "    <tr>\n",
              "      <th>109</th>\n",
              "      <td>317.294118</td>\n",
              "      <td>3.176471</td>\n",
              "      <td>3.588235</td>\n",
              "      <td>3.558824</td>\n",
              "      <td>8.717059</td>\n",
              "      <td>0.588235</td>\n",
              "      <td>0.748235</td>\n",
              "    </tr>\n",
              "    <tr>\n",
              "      <th>110</th>\n",
              "      <td>319.918919</td>\n",
              "      <td>3.324324</td>\n",
              "      <td>3.824324</td>\n",
              "      <td>3.716216</td>\n",
              "      <td>8.822162</td>\n",
              "      <td>0.675676</td>\n",
              "      <td>0.774595</td>\n",
              "    </tr>\n",
              "    <tr>\n",
              "      <th>111</th>\n",
              "      <td>324.529412</td>\n",
              "      <td>3.882353</td>\n",
              "      <td>3.764706</td>\n",
              "      <td>3.705882</td>\n",
              "      <td>8.978824</td>\n",
              "      <td>0.941176</td>\n",
              "      <td>0.814706</td>\n",
              "    </tr>\n",
              "    <tr>\n",
              "      <th>112</th>\n",
              "      <td>324.761905</td>\n",
              "      <td>3.857143</td>\n",
              "      <td>3.928571</td>\n",
              "      <td>3.857143</td>\n",
              "      <td>9.020952</td>\n",
              "      <td>0.809524</td>\n",
              "      <td>0.806667</td>\n",
              "    </tr>\n",
              "    <tr>\n",
              "      <th>113</th>\n",
              "      <td>327.071429</td>\n",
              "      <td>3.928571</td>\n",
              "      <td>4.142857</td>\n",
              "      <td>3.928571</td>\n",
              "      <td>9.117143</td>\n",
              "      <td>0.857143</td>\n",
              "      <td>0.855714</td>\n",
              "    </tr>\n",
              "    <tr>\n",
              "      <th>114</th>\n",
              "      <td>328.666667</td>\n",
              "      <td>4.000000</td>\n",
              "      <td>3.833333</td>\n",
              "      <td>3.900000</td>\n",
              "      <td>9.130667</td>\n",
              "      <td>0.800000</td>\n",
              "      <td>0.832667</td>\n",
              "    </tr>\n",
              "    <tr>\n",
              "      <th>115</th>\n",
              "      <td>331.000000</td>\n",
              "      <td>4.555556</td>\n",
              "      <td>4.277778</td>\n",
              "      <td>3.944444</td>\n",
              "      <td>9.308889</td>\n",
              "      <td>1.000000</td>\n",
              "      <td>0.881111</td>\n",
              "    </tr>\n",
              "    <tr>\n",
              "      <th>116</th>\n",
              "      <td>331.000000</td>\n",
              "      <td>4.181818</td>\n",
              "      <td>4.454545</td>\n",
              "      <td>4.090909</td>\n",
              "      <td>9.253636</td>\n",
              "      <td>1.000000</td>\n",
              "      <td>0.896364</td>\n",
              "    </tr>\n",
              "    <tr>\n",
              "      <th>117</th>\n",
              "      <td>334.000000</td>\n",
              "      <td>4.428571</td>\n",
              "      <td>4.500000</td>\n",
              "      <td>4.571429</td>\n",
              "      <td>9.441429</td>\n",
              "      <td>0.857143</td>\n",
              "      <td>0.922857</td>\n",
              "    </tr>\n",
              "    <tr>\n",
              "      <th>118</th>\n",
              "      <td>334.555556</td>\n",
              "      <td>4.444444</td>\n",
              "      <td>4.500000</td>\n",
              "      <td>4.444444</td>\n",
              "      <td>9.447778</td>\n",
              "      <td>1.000000</td>\n",
              "      <td>0.924444</td>\n",
              "    </tr>\n",
              "    <tr>\n",
              "      <th>119</th>\n",
              "      <td>333.777778</td>\n",
              "      <td>4.555556</td>\n",
              "      <td>4.666667</td>\n",
              "      <td>4.277778</td>\n",
              "      <td>9.535556</td>\n",
              "      <td>0.888889</td>\n",
              "      <td>0.928889</td>\n",
              "    </tr>\n",
              "    <tr>\n",
              "      <th>120</th>\n",
              "      <td>335.375000</td>\n",
              "      <td>4.125000</td>\n",
              "      <td>4.437500</td>\n",
              "      <td>4.562500</td>\n",
              "      <td>9.566250</td>\n",
              "      <td>0.875000</td>\n",
              "      <td>0.935000</td>\n",
              "    </tr>\n",
              "  </tbody>\n",
              "</table>\n",
              "</div>"
            ],
            "text/plain": [
              "              GRE Score  University Rating  ...  Research  Chance of Admit \n",
              "TOEFL Score                                 ...                            \n",
              "101          306.454545           2.090909  ...  0.181818          0.584545\n",
              "102          308.117647           2.705882  ...  0.235294          0.650000\n",
              "103          312.937500           2.625000  ...  0.187500          0.685625\n",
              "104          312.440000           2.880000  ...  0.400000          0.686000\n",
              "105          310.678571           2.500000  ...  0.285714          0.643571\n",
              "106          312.250000           2.666667  ...  0.375000          0.672083\n",
              "107          314.961538           2.807692  ...  0.653846          0.710769\n",
              "108          316.882353           3.470588  ...  0.411765          0.708824\n",
              "109          317.294118           3.176471  ...  0.588235          0.748235\n",
              "110          319.918919           3.324324  ...  0.675676          0.774595\n",
              "111          324.529412           3.882353  ...  0.941176          0.814706\n",
              "112          324.761905           3.857143  ...  0.809524          0.806667\n",
              "113          327.071429           3.928571  ...  0.857143          0.855714\n",
              "114          328.666667           4.000000  ...  0.800000          0.832667\n",
              "115          331.000000           4.555556  ...  1.000000          0.881111\n",
              "116          331.000000           4.181818  ...  1.000000          0.896364\n",
              "117          334.000000           4.428571  ...  0.857143          0.922857\n",
              "118          334.555556           4.444444  ...  1.000000          0.924444\n",
              "119          333.777778           4.555556  ...  0.888889          0.928889\n",
              "120          335.375000           4.125000  ...  0.875000          0.935000\n",
              "\n",
              "[20 rows x 7 columns]"
            ]
          },
          "metadata": {
            "tags": []
          },
          "execution_count": 15
        }
      ]
    },
    {
      "cell_type": "markdown",
      "metadata": {
        "id": "VNcacmOva1q9"
      },
      "source": [
        "**Data Visualization**"
      ]
    },
    {
      "cell_type": "code",
      "metadata": {
        "colab": {
          "base_uri": "https://localhost:8080/",
          "height": 689
        },
        "id": "J4WTproxtrjJ",
        "outputId": "5e3d6874-2450-4456-d9f4-3e54b9b8a34e"
      },
      "source": [
        "fig, ax = plt.subplots(figsize=(10,10))\n",
        "sns.heatmap(data.corr(), annot=True,cmap='Blues')\n",
        "\n"
      ],
      "execution_count": null,
      "outputs": [
        {
          "output_type": "execute_result",
          "data": {
            "text/plain": [
              "<matplotlib.axes._subplots.AxesSubplot at 0x7f9472382dd0>"
            ]
          },
          "metadata": {
            "tags": []
          },
          "execution_count": 16
        },
        {
          "output_type": "display_data",
          "data": {
            "image/png": "[encoded data removed]",
            "text/plain": [
              "<Figure size 720x720 with 2 Axes>"
            ]
          },
          "metadata": {
            "tags": [],
            "needs_background": "light"
          }
        }
      ]
    },
    {
      "cell_type": "code",
      "metadata": {
        "colab": {
          "base_uri": "https://localhost:8080/",
          "height": 718
        },
        "id": "3A0hpOFXtxt1",
        "outputId": "c9c416f8-6c85-4914-aa41-35227258506a"
      },
      "source": [
        "data.hist(bins=10, figsize=(20,15))\n",
        "plt.show()"
      ],
      "execution_count": null,
      "outputs": [
        {
          "output_type": "display_data",
          "data": {
            "image/png": "[encoded data removed]",
            "text/plain": [
              "<Figure size 1440x1080 with 9 Axes>"
            ]
          },
          "metadata": {
            "tags": [],
            "needs_background": "light"
          }
        }
      ]
    },
    {
      "cell_type": "code",
      "metadata": {
        "colab": {
          "base_uri": "https://localhost:8080/",
          "height": 475
        },
        "id": "yD9AErWATi4K",
        "outputId": "612fb799-4af5-41fe-9405-8cb1e898e4fc"
      },
      "source": [
        "plt.figure(figsize=(20,6))\n",
        "plt.subplot(1,2,2)\n",
        "sns.regplot(data['CGPA'], data['Chance of Admit '])\n",
        "plt.title('CGPA vs Chance of Admit')"
      ],
      "execution_count": null,
      "outputs": [
        {
          "output_type": "stream",
          "text": [
            "/usr/local/lib/python3.7/dist-packages/seaborn/_decorators.py:43: FutureWarning: Pass the following variables as keyword args: x, y. From version 0.12, the only valid positional argument will be `data`, and passing other arguments without an explicit keyword will result in an error or misinterpretation.\n",
            "  FutureWarning\n"
          ],
          "name": "stderr"
        },
        {
          "output_type": "execute_result",
          "data": {
            "text/plain": [
              "Text(0.5, 1.0, 'CGPA vs Chance of Admit')"
            ]
          },
          "metadata": {
            "tags": []
          },
          "execution_count": 18
        },
        {
          "output_type": "display_data",
          "data": {
            "image/png": "[encoded data removed]",
            "text/plain": [
              "<Figure size 1440x432 with 1 Axes>"
            ]
          },
          "metadata": {
            "tags": [],
            "needs_background": "light"
          }
        }
      ]
    },
    {
      "cell_type": "code",
      "metadata": {
        "colab": {
          "base_uri": "https://localhost:8080/",
          "height": 475
        },
        "id": "-qHi3qaDTNiu",
        "outputId": "04a2d42c-7623-47e9-a806-85f64b88f2a9"
      },
      "source": [
        "plt.figure(figsize=(20,6))\n",
        "plt.subplot(1,2,2)\n",
        "sns.regplot(data['GRE Score'], data['Chance of Admit '])\n",
        "plt.title('GRE Scores vs Chance of Admit')"
      ],
      "execution_count": null,
      "outputs": [
        {
          "output_type": "stream",
          "text": [
            "/usr/local/lib/python3.7/dist-packages/seaborn/_decorators.py:43: FutureWarning: Pass the following variables as keyword args: x, y. From version 0.12, the only valid positional argument will be `data`, and passing other arguments without an explicit keyword will result in an error or misinterpretation.\n",
            "  FutureWarning\n"
          ],
          "name": "stderr"
        },
        {
          "output_type": "execute_result",
          "data": {
            "text/plain": [
              "Text(0.5, 1.0, 'GRE Scores vs Chance of Admit')"
            ]
          },
          "metadata": {
            "tags": []
          },
          "execution_count": 19
        },
        {
          "output_type": "display_data",
          "data": {
            "image/png": "[encoded data removed]",
            "text/plain": [
              "<Figure size 1440x432 with 1 Axes>"
            ]
          },
          "metadata": {
            "tags": [],
            "needs_background": "light"
          }
        }
      ]
    },
    {
      "cell_type": "code",
      "metadata": {
        "colab": {
          "base_uri": "https://localhost:8080/",
          "height": 475
        },
        "id": "YlOlcZ7uSlyW",
        "outputId": "401b5337-3627-4626-9725-8a7df760c6b1"
      },
      "source": [
        "plt.figure(figsize=(20,6))\n",
        "plt.subplot(1,2,2)\n",
        "sns.regplot(data['TOEFL Score'], data['Chance of Admit '])\n",
        "plt.title('TOEFL Scores vs Chance of Admit')"
      ],
      "execution_count": null,
      "outputs": [
        {
          "output_type": "stream",
          "text": [
            "/usr/local/lib/python3.7/dist-packages/seaborn/_decorators.py:43: FutureWarning: Pass the following variables as keyword args: x, y. From version 0.12, the only valid positional argument will be `data`, and passing other arguments without an explicit keyword will result in an error or misinterpretation.\n",
            "  FutureWarning\n"
          ],
          "name": "stderr"
        },
        {
          "output_type": "execute_result",
          "data": {
            "text/plain": [
              "Text(0.5, 1.0, 'TOEFL Scores vs Chance of Admit')"
            ]
          },
          "metadata": {
            "tags": []
          },
          "execution_count": 20
        },
        {
          "output_type": "display_data",
          "data": {
            "image/png": "[encoded data removed]",
            "text/plain": [
              "<Figure size 1440x432 with 1 Axes>"
            ]
          },
          "metadata": {
            "tags": [],
            "needs_background": "light"
          }
        }
      ]
    },
    {
      "cell_type": "code",
      "metadata": {
        "colab": {
          "base_uri": "https://localhost:8080/",
          "height": 475
        },
        "id": "c0I0IK8IVaJI",
        "outputId": "89c251f5-6f78-47ae-a2c6-639a85b22539"
      },
      "source": [
        "fig, ax = plt.subplots(figsize=(8,6))\n",
        "sns.countplot(data['University Rating'])\n",
        "plt.title('University Rating')\n",
        "plt.ylabel('Number of Applicants')"
      ],
      "execution_count": null,
      "outputs": [
        {
          "output_type": "stream",
          "text": [
            "/usr/local/lib/python3.7/dist-packages/seaborn/_decorators.py:43: FutureWarning: Pass the following variable as a keyword arg: x. From version 0.12, the only valid positional argument will be `data`, and passing other arguments without an explicit keyword will result in an error or misinterpretation.\n",
            "  FutureWarning\n"
          ],
          "name": "stderr"
        },
        {
          "output_type": "execute_result",
          "data": {
            "text/plain": [
              "Text(0, 0.5, 'Number of Applicants')"
            ]
          },
          "metadata": {
            "tags": []
          },
          "execution_count": 21
        },
        {
          "output_type": "display_data",
          "data": {
            "image/png": "[encoded data removed]",
            "text/plain": [
              "<Figure size 576x432 with 1 Axes>"
            ]
          },
          "metadata": {
            "tags": [],
            "needs_background": "light"
          }
        }
      ]
    },
    {
      "cell_type": "code",
      "metadata": {
        "colab": {
          "base_uri": "https://localhost:8080/",
          "height": 475
        },
        "id": "WxCyQNo5s0OK",
        "outputId": "a8e74e96-db29-4a3e-8115-1831e9a746cf"
      },
      "source": [
        "fig, ax = plt.subplots(figsize=(8,6))\n",
        "sns.countplot(data['SOP'])\n",
        "plt.title('Statment of Purpose')\n",
        "plt.ylabel('Number of Applicants')"
      ],
      "execution_count": null,
      "outputs": [
        {
          "output_type": "stream",
          "text": [
            "/usr/local/lib/python3.7/dist-packages/seaborn/_decorators.py:43: FutureWarning: Pass the following variable as a keyword arg: x. From version 0.12, the only valid positional argument will be `data`, and passing other arguments without an explicit keyword will result in an error or misinterpretation.\n",
            "  FutureWarning\n"
          ],
          "name": "stderr"
        },
        {
          "output_type": "execute_result",
          "data": {
            "text/plain": [
              "Text(0, 0.5, 'Number of Applicants')"
            ]
          },
          "metadata": {
            "tags": []
          },
          "execution_count": 22
        },
        {
          "output_type": "display_data",
          "data": {
            "image/png": "[encoded data removed]",
            "text/plain": [
              "<Figure size 576x432 with 1 Axes>"
            ]
          },
          "metadata": {
            "tags": [],
            "needs_background": "light"
          }
        }
      ]
    },
    {
      "cell_type": "code",
      "metadata": {
        "colab": {
          "base_uri": "https://localhost:8080/",
          "height": 475
        },
        "id": "DJCC_opctIvx",
        "outputId": "bd9c03ee-464b-475f-f0c1-1f9c23bd3d12"
      },
      "source": [
        "fig, ax = plt.subplots(figsize=(8,6))\n",
        "sns.countplot(data['LOR '])\n",
        "plt.title('Letter of Recommendation')\n",
        "plt.ylabel('Number of Applicants')"
      ],
      "execution_count": null,
      "outputs": [
        {
          "output_type": "stream",
          "text": [
            "/usr/local/lib/python3.7/dist-packages/seaborn/_decorators.py:43: FutureWarning: Pass the following variable as a keyword arg: x. From version 0.12, the only valid positional argument will be `data`, and passing other arguments without an explicit keyword will result in an error or misinterpretation.\n",
            "  FutureWarning\n"
          ],
          "name": "stderr"
        },
        {
          "output_type": "execute_result",
          "data": {
            "text/plain": [
              "Text(0, 0.5, 'Number of Applicants')"
            ]
          },
          "metadata": {
            "tags": []
          },
          "execution_count": 23
        },
        {
          "output_type": "display_data",
          "data": {
            "image/png": "[encoded data removed]",
            "text/plain": [
              "<Figure size 576x432 with 1 Axes>"
            ]
          },
          "metadata": {
            "tags": [],
            "needs_background": "light"
          }
        }
      ]
    },
    {
      "cell_type": "code",
      "metadata": {
        "colab": {
          "base_uri": "https://localhost:8080/",
          "height": 475
        },
        "id": "pdtncZTUVP7q",
        "outputId": "323df473-42a5-41dc-f3f9-395b412ee651"
      },
      "source": [
        "fig, ax = plt.subplots(figsize=(8,6))\n",
        "sns.countplot(data['Research'])\n",
        "plt.title('Research Experience')\n",
        "plt.ylabel('Number of Applicants')\n",
        "ax.set_xticklabels(['No Research Experience', 'Has Research Experience'])"
      ],
      "execution_count": null,
      "outputs": [
        {
          "output_type": "stream",
          "text": [
            "/usr/local/lib/python3.7/dist-packages/seaborn/_decorators.py:43: FutureWarning: Pass the following variable as a keyword arg: x. From version 0.12, the only valid positional argument will be `data`, and passing other arguments without an explicit keyword will result in an error or misinterpretation.\n",
            "  FutureWarning\n"
          ],
          "name": "stderr"
        },
        {
          "output_type": "execute_result",
          "data": {
            "text/plain": [
              "[Text(0, 0, 'No Research Experience'), Text(0, 0, 'Has Research Experience')]"
            ]
          },
          "metadata": {
            "tags": []
          },
          "execution_count": 24
        },
        {
          "output_type": "display_data",
          "data": {
            "image/png": "[encoded data removed]",
            "text/plain": [
              "<Figure size 576x432 with 1 Axes>"
            ]
          },
          "metadata": {
            "tags": [],
            "needs_background": "light"
          }
        }
      ]
    },
    {
      "cell_type": "markdown",
      "metadata": {
        "id": "3omqLEHRbMNj"
      },
      "source": [
        "**Model Building And Training**"
      ]
    },
    {
      "cell_type": "code",
      "metadata": {
        "id": "yeL-tzWlz2hN"
      },
      "source": [
        "features = data.drop(columns=['Chance of Admit '])\n",
        "target = data['Chance of Admit ']\n"
      ],
      "execution_count": null,
      "outputs": []
    },
    {
      "cell_type": "code",
      "metadata": {
        "id": "DRh7-8II0d3I"
      },
      "source": [
        "from sklearn.model_selection import train_test_split\n",
        "x_train, x_test, y_train, y_test = train_test_split(features, target, train_size=0.80, random_state=35)\n"
      ],
      "execution_count": null,
      "outputs": []
    },
    {
      "cell_type": "code",
      "metadata": {
        "colab": {
          "base_uri": "https://localhost:8080/"
        },
        "id": "BUe93svr0qDC",
        "outputId": "48e6b111-b747-4387-82b9-542ffd261cbb"
      },
      "source": [
        "print(x_train.shape)\n",
        "print(y_train.shape)\n",
        "print(x_test.shape)\n",
        "print(y_test.shape)\n"
      ],
      "execution_count": null,
      "outputs": [
        {
          "output_type": "stream",
          "text": [
            "(320, 7)\n",
            "(320,)\n",
            "(80, 7)\n",
            "(80,)\n"
          ],
          "name": "stdout"
        }
      ]
    },
    {
      "cell_type": "markdown",
      "metadata": {
        "id": "z9dO5yo4cax4"
      },
      "source": [
        "**Linear Regression**"
      ]
    },
    {
      "cell_type": "code",
      "metadata": {
        "id": "5EgEqUwg2qtF"
      },
      "source": [
        "from sklearn.linear_model import LinearRegression\n",
        "from sklearn.metrics import mean_squared_error\n",
        "from sklearn.metrics import r2_score\n",
        "\n",
        "linearRegression_model = LinearRegression()\n",
        "linearRegression_model.fit(x_train, y_train)\n",
        "\n",
        "predictions = linearRegression_model.predict(x_test)\n"
      ],
      "execution_count": null,
      "outputs": []
    },
    {
      "cell_type": "code",
      "metadata": {
        "colab": {
          "base_uri": "https://localhost:8080/"
        },
        "id": "VCHpk_Tr3wIr",
        "outputId": "94650dcc-1511-4779-8848-be91324d7e43"
      },
      "source": [
        "mean_squared_error_linearregression = mean_squared_error(y_test, predictions)\n",
        "print('MSE: ',mean_squared_error_linearregression)\n",
        "print('RMSE :  ',(mean_squared_error(y_test,predictions))**0.5)\n",
        "r_squared_value_linearregression = r2_score(y_test, predictions)\n",
        "print('r2 score: ',r_squared_value_linearregression)\n"
      ],
      "execution_count": null,
      "outputs": [
        {
          "output_type": "stream",
          "text": [
            "MSE:  0.004347840317076556\n",
            "RMSE :   0.06593815524471819\n",
            "r2 score:  0.8069737750079603\n"
          ],
          "name": "stdout"
        }
      ]
    },
    {
      "cell_type": "markdown",
      "metadata": {
        "id": "HiNkwM6cchRd"
      },
      "source": [
        "**Random Forests**"
      ]
    },
    {
      "cell_type": "code",
      "metadata": {
        "id": "6zwX_VGr3xCB"
      },
      "source": [
        "#building a model with random forest regression\n",
        "\n",
        "from sklearn.ensemble import RandomForestRegressor\n",
        "\n",
        "randomForest_model = RandomForestRegressor(n_estimators=500)\n",
        "randomForest_model.fit(x_train, y_train)\n",
        "predictions = randomForest_model.predict(x_test)\n"
      ],
      "execution_count": null,
      "outputs": []
    },
    {
      "cell_type": "code",
      "metadata": {
        "colab": {
          "base_uri": "https://localhost:8080/"
        },
        "id": "UUlLUkAj7DHA",
        "outputId": "6de01c57-f87f-46fe-abe5-070d66970ec3"
      },
      "source": [
        "mean_squared_error_randomforest = mean_squared_error(y_test, predictions)\n",
        "print('MSE: ',mean_squared_error_randomforest)\n",
        "print('RMSE :  ',(mean_squared_error(y_test,predictions))**0.5)\n",
        "r_squared_value_randomforest = r2_score(y_test, predictions)\n",
        "print('r2 score: ',r_squared_value_randomforest)\n"
      ],
      "execution_count": null,
      "outputs": [
        {
          "output_type": "stream",
          "text": [
            "MSE:  0.005724620910000018\n",
            "RMSE :   0.07566122461340431\n",
            "r2 score:  0.7458503801467137\n"
          ],
          "name": "stdout"
        }
      ]
    },
    {
      "cell_type": "markdown",
      "metadata": {
        "id": "fnPUTDX-cpy-"
      },
      "source": [
        "**Decision Tree**"
      ]
    },
    {
      "cell_type": "code",
      "metadata": {
        "id": "pmDSO2B54Voj"
      },
      "source": [
        "#Decision Tree\n",
        "\n",
        "from sklearn.tree import DecisionTreeRegressor\n",
        "decisionTree_model = DecisionTreeRegressor()\n",
        "decisionTree_model.fit(x_train, y_train)\n",
        "\n",
        "predictions = decisionTree_model.predict(x_test)\n"
      ],
      "execution_count": null,
      "outputs": []
    },
    {
      "cell_type": "code",
      "metadata": {
        "colab": {
          "base_uri": "https://localhost:8080/"
        },
        "id": "YyEod-e-7g9p",
        "outputId": "9ed68896-094e-4678-e889-a19c1134eb5f"
      },
      "source": [
        "mean_squared_error_decisiontree = mean_squared_error(y_test, predictions)\n",
        "print('MSE: ',mean_squared_error_decisiontree)\n",
        "print('RMSE :  ',(mean_squared_error(y_test,predictions))**0.5)\n",
        "r_squared_value_decisiontree = r2_score(y_test, predictions)\n",
        "print('r2 score: ',r_squared_value_decisiontree)\n"
      ],
      "execution_count": null,
      "outputs": [
        {
          "output_type": "stream",
          "text": [
            "MSE:  0.01005875\n",
            "RMSE :   0.10029331981742354\n",
            "r2 score:  0.5534328772349686\n"
          ],
          "name": "stdout"
        }
      ]
    },
    {
      "cell_type": "markdown",
      "metadata": {
        "id": "gZP1-80wd1gk"
      },
      "source": [
        "**KNN**"
      ]
    },
    {
      "cell_type": "code",
      "metadata": {
        "id": "s0DRuGxTbe3w"
      },
      "source": [
        "#KNN\n",
        "from sklearn.neighbors import KNeighborsRegressor\n",
        "knn_model = KNeighborsRegressor(n_neighbors=10)\n",
        "knn_model.fit(x_train, y_train)\n",
        "predictions = knn_model.predict(x_test)"
      ],
      "execution_count": null,
      "outputs": []
    },
    {
      "cell_type": "code",
      "metadata": {
        "colab": {
          "base_uri": "https://localhost:8080/"
        },
        "id": "B_6h4dIO8FxD",
        "outputId": "868de161-fd3b-4baa-a794-fd5a8b6b253c"
      },
      "source": [
        "mean_squared_error_knn = mean_squared_error(y_test, predictions)\n",
        "print('MSE: ',mean_squared_error_knn)\n",
        "print('RMSE :  ',(mean_squared_error(y_test,predictions))**0.5)\n",
        "r_squared_value_knn = r2_score(y_test, predictions)\n",
        "print('r2 score: ',r_squared_value_knn)\n"
      ],
      "execution_count": null,
      "outputs": [
        {
          "output_type": "stream",
          "text": [
            "MSE:  0.005481262500000001\n",
            "RMSE :   0.0740355488937578\n",
            "r2 score:  0.7566544924821809\n"
          ],
          "name": "stdout"
        }
      ]
    },
    {
      "cell_type": "markdown",
      "metadata": {
        "id": "goN-diUW-WK_"
      },
      "source": [
        "**Comparing the mean  squared error values of all the four algorithms**"
      ]
    },
    {
      "cell_type": "code",
      "metadata": {
        "colab": {
          "base_uri": "https://localhost:8080/",
          "height": 461
        },
        "id": "KQUZ3FLw9RaI",
        "outputId": "74887531-24b8-4f8a-ac32-c4795d9eacc6"
      },
      "source": [
        "Methods = ['Linear Regression', 'Decision Trees', 'Random Forests','K- Nearest Neighbor']\n",
        "Scores = np.array([mean_squared_error_linearregression, mean_squared_error_decisiontree, mean_squared_error_randomforest, mean_squared_error_knn])\n",
        "\n",
        "fig, ax = plt.subplots(figsize=(8,6))\n",
        "sns.barplot(Methods, Scores)\n",
        "plt.title('Algorithm Prediction')\n",
        "plt.ylabel('mean squared error')"
      ],
      "execution_count": null,
      "outputs": [
        {
          "output_type": "stream",
          "text": [
            "/usr/local/lib/python3.7/dist-packages/seaborn/_decorators.py:43: FutureWarning: Pass the following variables as keyword args: x, y. From version 0.12, the only valid positional argument will be `data`, and passing other arguments without an explicit keyword will result in an error or misinterpretation.\n",
            "  FutureWarning\n"
          ],
          "name": "stderr"
        },
        {
          "output_type": "execute_result",
          "data": {
            "text/plain": [
              "Text(0, 0.5, 'mean squared error')"
            ]
          },
          "metadata": {
            "tags": []
          },
          "execution_count": 36
        },
        {
          "output_type": "display_data",
          "data": {
            "image/png": "[encoded data removed]",
            "text/plain": [
              "<Figure size 576x432 with 1 Axes>"
            ]
          },
          "metadata": {
            "tags": [],
            "needs_background": "light"
          }
        }
      ]
    },
    {
      "cell_type": "markdown",
      "metadata": {
        "id": "XR3NQ4XXZUAW"
      },
      "source": [
        "**Comparing the r - squared values of all the four\n",
        " algorithms**"
      ]
    },
    {
      "cell_type": "code",
      "metadata": {
        "id": "8B4PBrOj47KD",
        "colab": {
          "base_uri": "https://localhost:8080/",
          "height": 461
        },
        "outputId": "5b4228c0-4eec-48ba-8ac4-6e0b181d5898"
      },
      "source": [
        "Methods = ['Linear Regression', 'Decision Trees', 'Random Forests','K- Nearest Neighbor']\n",
        "Scores = np.array([r_squared_value_linearregression, r_squared_value_decisiontree, r_squared_value_randomforest, r_squared_value_knn])\n",
        "\n",
        "fig, ax = plt.subplots(figsize=(8,6))\n",
        "sns.barplot(Methods, Scores)\n",
        "plt.title('Algorithm Prediction')\n",
        "plt.ylabel('r-squared score')"
      ],
      "execution_count": null,
      "outputs": [
        {
          "output_type": "stream",
          "text": [
            "/usr/local/lib/python3.7/dist-packages/seaborn/_decorators.py:43: FutureWarning: Pass the following variables as keyword args: x, y. From version 0.12, the only valid positional argument will be `data`, and passing other arguments without an explicit keyword will result in an error or misinterpretation.\n",
            "  FutureWarning\n"
          ],
          "name": "stderr"
        },
        {
          "output_type": "execute_result",
          "data": {
            "text/plain": [
              "Text(0, 0.5, 'r-squared score')"
            ]
          },
          "metadata": {
            "tags": []
          },
          "execution_count": 37
        },
        {
          "output_type": "display_data",
          "data": {
            "image/png": "[encoded data removed]",
            "text/plain": [
              "<Figure size 576x432 with 1 Axes>"
            ]
          },
          "metadata": {
            "tags": [],
            "needs_background": "light"
          }
        }
      ]
    }
  ]
}